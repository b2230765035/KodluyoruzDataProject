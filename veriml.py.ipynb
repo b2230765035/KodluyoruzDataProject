{
 "cells": [
  {
   "cell_type": "code",
   "execution_count": null,
   "id": "initial_id",
   "metadata": {
    "collapsed": true
   },
   "outputs": [],
   "source": [
    "import pandas as pd\n",
    "import numpy as np\n",
    "import matplotlib.pyplot as plt\n",
    "import seaborn as sns\n",
    "import plotly.express as px\n"
   ]
  },
  {
   "metadata": {},
   "cell_type": "code",
   "outputs": [],
   "execution_count": null,
   "source": [
    "data=pd.read_csv('Cancer Deaths by Country and Type Dataset.csv')\n",
    "population=pd.read_csv(\"population.csv\")"
   ],
   "id": "59fa721ae359b691"
  },
  {
   "metadata": {},
   "cell_type": "code",
   "outputs": [],
   "execution_count": null,
   "source": [
    "data.dropna(subset=[\"Code\"],inplace=True)#boş satırlar temizlendi\n",
    "data = data.reset_index(drop=True)"
   ],
   "id": "fc07ade1b0162c1f"
  },
  {
   "metadata": {},
   "cell_type": "code",
   "outputs": [],
   "execution_count": null,
   "source": [
    "population = population[population[\"Year\"] >= 1990]#istediğimiz yıl ve sonrasını filtreledik\n",
    "population = population.rename(columns={\"Entity\": \"Country\", \"Population (historical)\": \"Population\"})\n",
    "population[\"Year\"] = population[\"Year\"].astype(str)"
   ],
   "id": "e3dac0a5ed76f59f"
  },
  {
   "metadata": {},
   "cell_type": "code",
   "outputs": [],
   "execution_count": null,
   "source": [
    "\n",
    "def hesapla_kanser_orani(df,nufus):\n",
    "    grouped = df.groupby([\"Country\", \"Year\"]).sum(numeric_only=True)#yıl+ülkeye göre grupladık ve kanser vakalrını topladık\n",
    "    grouped[\"Total_Cancer\"] = grouped.sum(axis=1)\n",
    "    grouped = grouped.reset_index()\n",
    "    grouped[\"Year\"] = grouped[\"Year\"].astype(str)\n",
    "    merged = pd.merge(grouped, nufus, on=[\"Country\", \"Year\"], how=\"left\")#Toplam kanser verisi ile nüfus verisi \"Country\" ve \"Year\" üzerinden birleştirildi\n",
    "    merged = merged.dropna(subset=[\"Population\"])\n",
    "    merged[\"Cancer_per_100k\"] = (merged[\"Total_Cancer\"] / merged[\"Population\"]) * 100000\n",
    "    return merged\n",
    "\n",
    "merged = hesapla_kanser_orani(data,population)"
   ],
   "id": "5b70fc7f57ec907c"
  },
  {
   "metadata": {
    "ExecuteTime": {
     "end_time": "2025-05-29T11:38:18.580008Z",
     "start_time": "2025-05-29T11:38:17.374656Z"
    }
   },
   "cell_type": "code",
   "source": [
    "#Her yıl tüm dünyadaki toplam kanser oranları ne kadar? Artıyor mu, azalıyor mu?\n",
    "#Yıl ekseninde değişimi daha iyi göstermesi için line plot kullanıldı\n",
    "plt.figure(figsize=(10, 5))\n",
    "merged.groupby(\"Year\")[\"Total_Cancer\"].sum().plot()\n",
    "plt.title(\"Yıllara Göre Toplam Kanser Vakası (Dünya)\")\n",
    "plt.ylabel(\"Toplam Kanser Vakası\")\n",
    "plt.xlabel(\"Yıl\")\n",
    "plt.grid()\n",
    "plt.tight_layout()\n",
    "plt.show()"
   ],
   "id": "5b76774dad5538fd",
   "outputs": [
    {
     "ename": "NameError",
     "evalue": "name 'plt' is not defined",
     "output_type": "error",
     "traceback": [
      "\u001B[1;31m---------------------------------------------------------------------------\u001B[0m",
      "\u001B[1;31mNameError\u001B[0m                                 Traceback (most recent call last)",
      "Cell \u001B[1;32mIn[1], line 3\u001B[0m\n\u001B[0;32m      1\u001B[0m \u001B[38;5;66;03m#Her yıl tüm dünyadaki toplam kanser oranları ne kadar? Artıyor mu, azalıyor mu?\u001B[39;00m\n\u001B[0;32m      2\u001B[0m \u001B[38;5;66;03m#Yıl ekseninde değişimi daha iyi göstermesi için line plot kullanıldı\u001B[39;00m\n\u001B[1;32m----> 3\u001B[0m \u001B[43mplt\u001B[49m\u001B[38;5;241m.\u001B[39mfigure(figsize\u001B[38;5;241m=\u001B[39m(\u001B[38;5;241m10\u001B[39m, \u001B[38;5;241m5\u001B[39m))\n\u001B[0;32m      4\u001B[0m merged\u001B[38;5;241m.\u001B[39mgroupby(\u001B[38;5;124m\"\u001B[39m\u001B[38;5;124mYear\u001B[39m\u001B[38;5;124m\"\u001B[39m)[\u001B[38;5;124m\"\u001B[39m\u001B[38;5;124mTotal_Cancer\u001B[39m\u001B[38;5;124m\"\u001B[39m]\u001B[38;5;241m.\u001B[39msum()\u001B[38;5;241m.\u001B[39mplot()\n\u001B[0;32m      5\u001B[0m plt\u001B[38;5;241m.\u001B[39mtitle(\u001B[38;5;124m\"\u001B[39m\u001B[38;5;124mYıllara Göre Toplam Kanser Vakası (Dünya)\u001B[39m\u001B[38;5;124m\"\u001B[39m)\n",
      "\u001B[1;31mNameError\u001B[0m: name 'plt' is not defined"
     ]
    }
   ],
   "execution_count": 1
  },
  {
   "metadata": {},
   "cell_type": "code",
   "outputs": [],
   "execution_count": null,
   "source": [
    "#Hangi ülkede toplamda daha fazla kanser var?\n",
    "top10 = merged.groupby(\"Country\")[\"Total_Cancer\"].sum().sort_values(ascending=False).head(10)\n",
    "plt.figure(figsize=(10, 6))\n",
    "top10.plot(kind=\"barh\")\n",
    "plt.title(\"Toplam Kanser Vakası (En Yüksek 10 Ülke)\")\n",
    "plt.xlabel(\"Toplam Kanser Vakası\")\n",
    "plt.grid(axis='x')\n",
    "plt.tight_layout()\n",
    "plt.show()\n"
   ],
   "id": "5af97e3d4d576878"
  },
  {
   "metadata": {},
   "cell_type": "code",
   "outputs": [],
   "execution_count": null,
   "source": [
    "# Her yıl için en yüksek kanser oranına sahip ilk 3 ülkeyi bulduk\n",
    "top3_filtered = (\n",
    "    merged.sort_values([\"Year\", \"Cancer_per_100k\"], ascending=[True, False])\n",
    "    .groupby(\"Year\")\n",
    "    .head(3)\n",
    ")\n",
    "\n",
    "# Pivot tablo\n",
    "pivot_df = top3_filtered.pivot(index=\"Year\", columns=\"Country\", values=\"Cancer_per_100k\")\n",
    "\n",
    "pivot_df.plot(kind=\"line\", marker=\"o\", figsize=(12, 6),\n",
    "              title=\"Yıllara Göre En Fazla Kanser Oranına Sahip 3 Gerçek Ülke\")\n",
    "plt.ylabel(\"Toplam Kanser Oranı\")\n",
    "plt.xlabel(\"Yıl\")\n",
    "plt.grid(True)\n",
    "plt.legend(title=\"Ülke\")\n",
    "plt.tight_layout()\n",
    "plt.show()\n"
   ],
   "id": "88338294a01f3494"
  },
  {
   "metadata": {},
   "cell_type": "code",
   "outputs": [],
   "execution_count": null,
   "source": [
    "#Her ülkenin ortalama yıllık kanser oranı ne? Genel ortalamadan ne kadar sapıyor?\n",
    "#Yani sağlıkta iyileşme veya kötüleşme analiz edilebilir\n",
    "\n",
    "population[\"Country\"] = population[\"Country\"].str.strip().str.lower()\n",
    "\n",
    "data[\"Country\"] = data[\"Country\"].str.strip().str.lower()\n",
    "data[\"Year\"] = data[\"Year\"].astype(str)\n",
    "pop_lookup = population.set_index([\"Country\", \"Year\"])[\"Population\"].to_dict()\n",
    "data[\"Population\"] = data.set_index([\"Country\", \"Year\"]).index.map(pop_lookup)\n",
    "cancer_columns = data.columns[3:-1]\n",
    "data[\"Total_Cancer\"] = data[cancer_columns].sum(axis=1)\n",
    "data[\"Cancer_per_100k\"] = (data[\"Total_Cancer\"] / data[\"Population\"]) * 100000\n",
    "\n",
    "# Yıl ve ülkeye göre toplam\n",
    "grouped = data.groupby([\"Year\", \"Country\"]).sum(numeric_only=True)\n",
    "grouped[\"Total\"] = grouped[\"Total_Cancer\"]\n",
    "\n",
    "# Yıllık ortalama ve sapma\n",
    "yearly_avg = grouped[\"Total\"].groupby(\"Year\").mean()\n",
    "grouped = grouped.reset_index()\n",
    "grouped[\"Sapma\"] = grouped.apply(lambda row: row[\"Total\"] - yearly_avg[row[\"Year\"]], axis=1)\n",
    "\n",
    "# Her ülkenin tüm yıllar için ortalama sapması hesaplandı\n",
    "country_sapma_avg = grouped.groupby(\"Country\")[\"Sapma\"].mean()\n",
    "\n",
    "high = country_sapma_avg[country_sapma_avg > 500].index.tolist()\n",
    "low = country_sapma_avg[country_sapma_avg < -500].index.tolist()\n",
    "mid = country_sapma_avg[(country_sapma_avg >= -500) & (country_sapma_avg <= 500)].index.tolist()\n",
    "\n",
    "def draw_sapma_plot_for(countries, title):\n",
    "    plt.figure(figsize=(12, 6))\n",
    "    for country in countries:\n",
    "        df = grouped[grouped[\"Country\"] == country]\n",
    "        plt.plot(df[\"Year\"], df[\"Sapma\"], label=country.title(), marker='o')\n",
    "    plt.axhline(0, color=\"gray\", linestyle=\"--\")\n",
    "    plt.title(title)\n",
    "    plt.xlabel(\"Yıl\")\n",
    "    plt.ylabel(\"Toplam Kanser Sapması\")\n",
    "    plt.legend(bbox_to_anchor=(1.05, 1), loc='upper left', fontsize=8)\n",
    "    plt.tight_layout()\n",
    "    plt.grid(True)\n",
    "    plt.show()\n",
    "\n",
    "# Grafikleri çiz\n",
    "draw_sapma_plot_for(high[:6], \"🔴 Sürekli Ortalamanın Üzerinde Olan Ülkeler\")\n",
    "draw_sapma_plot_for(low[:6], \"🟢 Sürekli Ortalamanın Altında Olan Ülkeler\")\n",
    "draw_sapma_plot_for(mid[:6], \"🟡 Ortalama Etrafında Dalgalanan Ülkeler\")\n"
   ],
   "id": "cd56dd63f2afa178"
  },
  {
   "metadata": {},
   "cell_type": "code",
   "outputs": [],
   "execution_count": null,
   "source": [
    "data.columns = data.columns.str.strip()\n",
    "cancer_columns = data.columns[3:-3]\n",
    "cancer_columns = [col.strip() for col in cancer_columns]  # Boşlukları temizle\n",
    "\n",
    "data[\"Total_Cancer\"] = data[cancer_columns].sum(axis=1)\n",
    "data[\"Cancer_per_100k\"] = (data[\"Total_Cancer\"] / data[\"Population\"]) * 100000\n",
    "\n",
    "# Her yıl kişi başına en yüksek kanser oranına sahip ülkeyi bul\n",
    "top_country_per_year = (\n",
    "    data.loc[data.groupby(\"Year\")[\"Cancer_per_100k\"].idxmax()]\n",
    "    .reset_index(drop=True)\n",
    ")\n",
    "\n",
    "# Her yıl için o ülkenin en yaygın kanser türünü bul\n",
    "most_common_types = []\n",
    "\n",
    "for _, row in top_country_per_year.iterrows():\n",
    "    year = row[\"Year\"]\n",
    "    country = row[\"Country\"].strip().lower()\n",
    "\n",
    "    row_data = data[(data[\"Year\"] == year) & (data[\"Country\"] == country)]\n",
    "\n",
    "    if not row_data.empty:\n",
    "        max_cancer_type = row_data[cancer_columns].iloc[0].idxmax()\n",
    "        most_common_types.append(max_cancer_type)\n",
    "    else:\n",
    "        most_common_types.append(\"Bilinmiyor\")\n",
    "\n",
    "top_country_per_year[\"Most_Common_Cancer\"] = most_common_types\n",
    "top_country_per_year[\"Country\"] = top_country_per_year[\"Country\"].str.title()\n",
    "\n",
    "plt.figure(figsize=(14, 6))\n",
    "sns.barplot(data=top_country_per_year, x=\"Year\", y=\"Cancer_per_100k\", hue=\"Most_Common_Cancer\", dodge=False)\n",
    "\n",
    "# Her çubuğun üzerine ülke adını yaz\n",
    "for i, row in top_country_per_year.iterrows():\n",
    "    label = f\"{row['Country']}\"\n",
    "    plt.text(x=i, y=row[\"Cancer_per_100k\"] + 1, s=label, ha='center', fontsize=7, rotation=90)\n",
    "\n",
    "plt.title(\"Yıllara Göre Kişi Başına En Yüksek Kanser Oranına Sahip Ülke ve Baskın Kanser Türü\")\n",
    "plt.ylabel(\"Kanser Oranı (100k Kişi Başına)\")\n",
    "plt.xlabel(\"Yıl\")\n",
    "plt.xticks(rotation=45)\n",
    "plt.legend(title=\"Baskın Kanser Türü\", bbox_to_anchor=(1.05, 1), loc='upper left')\n",
    "plt.tight_layout()\n",
    "plt.show()"
   ],
   "id": "4e95c2d2dd2e7423"
  }
 ],
 "metadata": {
  "kernelspec": {
   "display_name": "Python 3",
   "language": "python",
   "name": "python3"
  },
  "language_info": {
   "codemirror_mode": {
    "name": "ipython",
    "version": 2
   },
   "file_extension": ".py",
   "mimetype": "text/x-python",
   "name": "python",
   "nbconvert_exporter": "python",
   "pygments_lexer": "ipython2",
   "version": "2.7.6"
  }
 },
 "nbformat": 4,
 "nbformat_minor": 5
}
